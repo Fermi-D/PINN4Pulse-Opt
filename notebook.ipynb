{
 "cells": [
  {
   "cell_type": "markdown",
   "id": "83fc5c30-b252-4e44-97a9-7c8d531e887f",
   "metadata": {},
   "source": [
    "# Robust quantum gates using smooth pulses and physics-informed neural networks"
   ]
  },
  {
   "cell_type": "code",
   "execution_count": 4,
   "id": "aa2c0de0-3fee-4f12-bf96-bbbbaf05d6b2",
   "metadata": {},
   "outputs": [
    {
     "data": {
      "text/plain": [
       "'\\n%load_ext autoreload\\n%autoreload 2\\nimport operators as qo\\nfrom network import MLP\\n'"
      ]
     },
     "execution_count": 4,
     "metadata": {},
     "output_type": "execute_result"
    }
   ],
   "source": [
    "import jax\n",
    "import jax.numpy as jnp\n",
    "\n",
    "from flax import nnx\n",
    "import optax\n",
    "\n",
    "import hydra\n",
    "from omegaconf import DictConfig\n",
    "'''\n",
    "%load_ext autoreload\n",
    "%autoreload 2\n",
    "import operators as qo\n",
    "from network import MLP\n",
    "'''"
   ]
  },
  {
   "cell_type": "markdown",
   "id": "328ee7bf-8e7a-489b-98fb-2940a501c320",
   "metadata": {},
   "source": [
    "## Examples : Transmon qubit"
   ]
  },
  {
   "cell_type": "markdown",
   "id": "c34345f8-1165-444d-a884-e8ea75161174",
   "metadata": {},
   "source": [
    "### utils.py"
   ]
  },
  {
   "cell_type": "code",
   "execution_count": 5,
   "id": "cee1b7a8-f95f-432e-a3ea-45d0e6bedf4e",
   "metadata": {},
   "outputs": [],
   "source": [
    "def dagger(A: jax.Array) -> jax.Array:\n",
    "    \"\"\"\n",
    "    Return Hermitian transpose matrix\n",
    "    Args:\n",
    "        A (jnp.ndarray): input matrix of shape (m, n).\n",
    "\n",
    "    Returns:\n",
    "        jnp.ndarray: Hermitian transpose matrix\n",
    "    \"\"\"\n",
    "    return jax.lax.conj(jax.lax.transpose(A, (1, 0)))"
   ]
  },
  {
   "cell_type": "markdown",
   "id": "1588dfa0-ab8b-4787-a548-dee67307c6d9",
   "metadata": {},
   "source": [
    "### operators.py"
   ]
  },
  {
   "cell_type": "code",
   "execution_count": 6,
   "id": "6a06cafe-717c-417a-bbfe-1c5c6c7db73c",
   "metadata": {},
   "outputs": [],
   "source": [
    "def identity(dim: int) -> jax.Array:\n",
    "    '''\n",
    "    Returns the identity operator.\n",
    "\n",
    "    Args:\n",
    "      dim (int): The dimension of Hilbert space.\n",
    "      \n",
    "    Returns: \n",
    "      jnp.array: A 2x2 matrix of the identity operator with complex64 precision.\n",
    "    '''\n",
    "    return jnp.identity(dim, dtype=jnp.complex64)\n",
    "\n",
    "def num(dim: int) -> jax.Array:\n",
    "    '''\n",
    "    Returns the number operator.\n",
    "    \n",
    "    Args:\n",
    "      dim (int): The dimension of Hilbert space.\n",
    "\n",
    "    Returns:\n",
    "      jnp.array: A 'dim'x'dim' matrix of the number operator with complex64 precision.\n",
    "    '''\n",
    "    return jnp.diag(jnp.arange(0, dim, dtype=jnp.complex64))"
   ]
  },
  {
   "cell_type": "markdown",
   "id": "cb100ead-c42b-4252-ad91-7119d27b79c2",
   "metadata": {},
   "source": [
    "### envelope.py"
   ]
  },
  {
   "cell_type": "code",
   "execution_count": 7,
   "id": "0901b673-b728-4eae-8396-20eb81eb59d3",
   "metadata": {},
   "outputs": [],
   "source": [
    "@hydra.main(config_name=\"system_params\", version_base=None, config_path=\"./config\")\n",
    "def smoothed_square(t: float, cfg: DictConfig):\n",
    "    '''\n",
    "    Smoothed unit square pulse expressed as follows:\n",
    "      A(t) = coth(kappa*T){tanh(kappa*T) - tanh(kappa(t-T))} - 1\n",
    "    \n",
    "    Args:\n",
    "      t (float): Current time (in seconds) at which to evaluate the control Hamiltonian.\n",
    "      cfg (DictConfig): Hydra‐loaded configuration object containing system parameters, \n",
    "        for example:\n",
    "        - cfg.drive.kappa: the degree of the smoothing\n",
    "        - cfg.drive.duration: anharmonicity of the transmon  \n",
    "      \n",
    "    Returns:\n",
    "      jnp.array: Matrix representation of the envelope (see system_params.yaml for kappa and duration)\n",
    "    '''\n",
    "    term_1 = (1/jax.lax.tanh(cfg.drive.kappa*cfg.drive.duration)) * jax.lax.tanh(cfg.drive.kappa*t)\n",
    "    term_2 = (1/jax.lax.tanh(cfg.drive.kappa*cfg.drive.duration)) * jax.lax.tanh(cfg.drive.kappa*(t-cfg.drive.duration))\n",
    "    return term_1 - term_2 - 1"
   ]
  },
  {
   "cell_type": "markdown",
   "id": "0da6c3ac-6fdd-482f-8463-5025e892c7b9",
   "metadata": {},
   "source": [
    "### network.py"
   ]
  },
  {
   "cell_type": "code",
   "execution_count": 8,
   "id": "d531b403-cf26-47c6-b77e-d11bdb2f7a5b",
   "metadata": {},
   "outputs": [],
   "source": [
    "class Linear(nnx.Module):\n",
    "  def __init__(self, num_input: int, num_output: int, *, rngs: nnx.Rngs):\n",
    "    key = rngs.params()\n",
    "    self.w = nnx.Param(jax.random.uniform(key, (num_input, num_output)))\n",
    "    self.b = nnx.Param(jnp.zeros((num_output,)))\n",
    "    self.num_input, self.num_output = num_input, num_output\n",
    "\n",
    "  def __call__(self, x: jax.Array):\n",
    "    return x @ self.w + self.b\n",
    "\n",
    "class MLP(nnx.Module):\n",
    "    def __init__(self, num_input: int, num_output: int, rngs: nnx.Rngs):\n",
    "        self.input_layer = Linear(num_input, 32, rngs=rngs)\n",
    "        self.hidden_layers1 = Linear(32, 32, rngs=rngs)\n",
    "        self.hidden_layers2 = Linear(32, 32, rngs=rngs)\n",
    "        self.output_layer = Linear(32, num_output, rngs=rngs)\n",
    "\n",
    "    def __call__(self, x: jax.Array):\n",
    "        x = nnx.tanh(self.input_layer(x))\n",
    "        x = nnx.tanh(self.hidden_layers1(x))\n",
    "        x = nnx.tanh(self.hidden_layers2(x))\n",
    "        return self.output_layer(x)"
   ]
  },
  {
   "cell_type": "markdown",
   "id": "8082e35b-9bdc-46b0-a8b1-93d1135b9ee0",
   "metadata": {},
   "source": [
    "### train.py"
   ]
  },
  {
   "cell_type": "code",
   "execution_count": 9,
   "id": "59469bb6-cd2d-4f96-bff4-d00a0a8b2560",
   "metadata": {},
   "outputs": [],
   "source": [
    "model = MLP(num_input=1, num_output=6, rngs=nnx.Rngs(0))\n",
    "optimizer = nnx.optimizer(model, optax.lbfgs(0.001))"
   ]
  },
  {
   "cell_type": "code",
   "execution_count": null,
   "id": "a913d71c-503b-46b6-b086-1a814d6e71ce",
   "metadata": {},
   "outputs": [],
   "source": [
    "@hydra.main(config_name=\"train_params\", version_base=None, config_path=\"./config\")\n",
    "@hydra.main(config_name=\"system_params\", version_base=None, config_path=\"./config\")\n",
    "def loss(model, cfg: DictConfig):\n",
    "    # infidelity\n",
    "    U_0 = (1/jnp.sqrt(2)) * jnp.array([[1, -1j], [-1j, 1]])\n",
    "    P = jnp.array([[1, 0, 0, 0], [0, 1, 0, 0]])\n",
    "    U_c = \n",
    "    term_1 = 1 - ((jnp.abs())**)/()\n",
    "\n",
    "    # noise sensitivity\n",
    "    term_2 = \n",
    "\n",
    "@hydra.main(config_name=\"train_params\", version_base=None, config_path=\"./config\")\n",
    "def train_loop()\n",
    "\n",
    "@hydra.main(config_name=\"system_params\", version_base=None, config_path=\"./config\")\n",
    "def compute_loss()"
   ]
  },
  {
   "cell_type": "markdown",
   "id": "36a1a3f9-91b4-4e64-83ba-e1ff131db818",
   "metadata": {},
   "source": [
    "### Settings"
   ]
  },
  {
   "cell_type": "code",
   "execution_count": 26,
   "id": "6ab3c9a5-20cc-4dbf-aa03-ce9a8a6f9acc",
   "metadata": {},
   "outputs": [],
   "source": [
    "# \n",
    "sys_dim = 4 # maximum energy level\n",
    "qubit_dim = 2**1 # logical subspace\n",
    "\n",
    "# target unitary gate\n",
    "theta = -jnp.pi/2\n",
    "U_tar = jnp.cos(theta)*qo.identity(2) + 1.0j*jnp.sin(theta)*qo.pauli_x()\n",
    "\n",
    "# define system parameters\n",
    "'''\n",
    "w_r = 2*jnp.pi * \n",
    "w_ge = 2*jnp.pi *\n",
    "w_ef = 2*jnp.pi *\n",
    "w_d = 2*jnp.pi *\n",
    "'''\n",
    "alpha = -200*10^6"
   ]
  },
  {
   "cell_type": "markdown",
   "id": "873cf537-b399-44ec-9313-78954db0f526",
   "metadata": {},
   "source": [
    "$$\n",
    "\\begin{align}\n",
    "\\hat{H}_{\\rm c} \\approx \\delta \\left( t \\right) \\hat{a}^\\dagger \\hat{a} + \\frac{\\Delta}{2} \\hat{a}^\\dagger \\hat{a} \\left( \\hat{a}^\\dagger \\hat{a} - \\hat{I} \\right) + \\frac{\\Omega \\left( t \\right) \\hat{a} + \\Omega^* \\left( t \\right) \\hat{a}^\\dagger}{2}\n",
    "\\end{align}\n",
    "$$"
   ]
  },
  {
   "cell_type": "code",
   "execution_count": 2,
   "id": "e5d95fe1-27e5-433f-91c8-25aa2473bb9f",
   "metadata": {},
   "outputs": [
    {
     "ename": "SyntaxError",
     "evalue": "incomplete input (3406110079.py, line 45)",
     "output_type": "error",
     "traceback": [
      "\u001b[0;36m  Cell \u001b[0;32mIn[2], line 45\u001b[0;36m\u001b[0m\n\u001b[0;31m    '''\u001b[0m\n\u001b[0m    ^\u001b[0m\n\u001b[0;31mSyntaxError\u001b[0m\u001b[0;31m:\u001b[0m incomplete input\n"
     ]
    }
   ],
   "source": [
    "@hydra.main(config_name=\"control_params\", version_base=None, config_path=\"./config\")\n",
    "def smooth_square_envelope(t: float, cfg: DictConfig):\n",
    "    '''\n",
    "    \n",
    "    '''\n",
    "    term_1 = (1/jax.lax.tanh(cfg.drive.kappa*cfg.drive.duration)) * jax.lax.tanh(cfg.drive.kappa*t)\n",
    "    term_2 = (1/jax.lax.tanh(cfg.drive.kappa*cfg.drive.duration)) * jax.lax.tanh(cfg.drive.kappa*(t-cfg.drive.duration))\n",
    "    return term_1 - term_2 - 1\n",
    "\n",
    "@hydra.main(config_name=\"system_params\", version_base=None, config_path=\"./config\")\n",
    "def pulse(t: float, model_outputs: jax.Array, cfg: DictConfig):\n",
    "    '''\n",
    "\n",
    "    '''\n",
    "    outputs = model(t)\n",
    "    Omega_x = 4*cfg.transmon.anharmonicity*smooth_square_envelope(t)*(2/jnp.pi) * jax.lax.atan(outputs[0]) * jax.lax.sin(outputs[1])\n",
    "    Omega_y = 4*cfg.transmon.anharmonicity*smooth_square_envelope(t)*(2/jnp.pi) * jax.lax.atan(outputs[2]) * jax.lax.sin(outputs[3])\n",
    "    Omega = omega_x + 1.0j*omega_y\n",
    "    \n",
    "    delta = 2*cfg.transmon.anharmonicity*(2/jnp.pi) * jax.lax.atan(outputs[4]) * jax.lax.sin(outputs[5])\n",
    "\n",
    "    return Omega, delta\n",
    "\n",
    "@hydra.main(config_name=\"system_params\", version_base=None, config_path=\"./config\")\n",
    "def control_Hamiltonian(t: float, cfg: DictConfig):\n",
    "    '''\n",
    "    Control Hamiltonian for the single transmon in Eq.(7)\n",
    "    \n",
    "    Args:\n",
    "      t (float): Current time (in seconds) at which to evaluate the control Hamiltonian.\n",
    "      cfg (DictConfig): Hydra‐loaded configuration object containing system parameters, \n",
    "        for example:\n",
    "        - cfg.transmon.dim: dimension of the Hilbert space  \n",
    "        - cfg.transmon.anharmonicity: anharmonicity of the transmon  \n",
    "        - any other nested fields defining pulse characteristics or coupling strengths\n",
    "      \n",
    "    Returns:\n",
    "      jnp.array: Matrix representation of the Hamiltonian (see system_params.yaml for matrix size)\n",
    "    '''\n",
    "    I = qo.identity(cfg.transmon.dim)\n",
    "    num = qo.num(cfg.transmon.dim)\n",
    "    Omega, delta = pulse(t, model)\n",
    "    \n",
    "    return delta*num + (cfg.transmon.anharmonicity/2)*jnp.dot(num, num-I) + (Omega*a+jax.lax.conj(Omega)*a_dag)/2\n",
    "\n",
    "def error_Hamiltonian(cfg: DictConfig):\n",
    "    '''\n",
    "\n",
    "    '''\n",
    "    return cfg.system.error_strength * qo.num(cfg.transmon.dim)\n",
    "\n",
    "def loss()"
   ]
  },
  {
   "cell_type": "code",
   "execution_count": 10,
   "id": "22b6908d-e96b-4c9a-bb0d-43524a4ca829",
   "metadata": {},
   "outputs": [
    {
     "ename": "NameError",
     "evalue": "name 'sys_dim' is not defined",
     "output_type": "error",
     "traceback": [
      "\u001b[0;31m---------------------------------------------------------------------------\u001b[0m",
      "\u001b[0;31mNameError\u001b[0m                                 Traceback (most recent call last)",
      "Cell \u001b[0;32mIn[10], line 2\u001b[0m\n\u001b[1;32m      1\u001b[0m \u001b[38;5;66;03m# define operators\u001b[39;00m\n\u001b[0;32m----> 2\u001b[0m I \u001b[38;5;241m=\u001b[39m qo\u001b[38;5;241m.\u001b[39midentity(\u001b[43msys_dim\u001b[49m)\n\u001b[1;32m      3\u001b[0m a \u001b[38;5;241m=\u001b[39m qo\u001b[38;5;241m.\u001b[39mannihilate(sys_dim)\n\u001b[1;32m      4\u001b[0m a_dag \u001b[38;5;241m=\u001b[39m qo\u001b[38;5;241m.\u001b[39mcreate(sys_dim)\n",
      "\u001b[0;31mNameError\u001b[0m: name 'sys_dim' is not defined"
     ]
    }
   ],
   "source": [
    "# define operators\n",
    "I = qo.identity(sys_dim)\n",
    "a = qo.annihilate(sys_dim)\n",
    "a_dag = qo.create(sys_dim)\n",
    "\n",
    "# define control Hamiltonian & error Hamiltonian\n",
    "#H_c = \n",
    "#H_e = "
   ]
  },
  {
   "cell_type": "code",
   "execution_count": 30,
   "id": "33a0beae-b974-4bef-9ff6-0a599c5f4152",
   "metadata": {},
   "outputs": [
    {
     "data": {
      "text/plain": [
       "Array([[0.       -0.j, 0.       -0.j, 0.       -0.j, 0.       -0.j],\n",
       "       [1.       -0.j, 0.       -0.j, 0.       -0.j, 0.       -0.j],\n",
       "       [0.       -0.j, 1.4142135-0.j, 0.       -0.j, 0.       -0.j],\n",
       "       [0.       -0.j, 0.       -0.j, 1.7320508-0.j, 0.       -0.j]],      dtype=complex64)"
      ]
     },
     "execution_count": 30,
     "metadata": {},
     "output_type": "execute_result"
    }
   ],
   "source": []
  },
  {
   "cell_type": "markdown",
   "id": "aca038fd-fc1a-481f-a191-95deb2fb0132",
   "metadata": {},
   "source": [
    "### neural network setting"
   ]
  },
  {
   "cell_type": "code",
   "execution_count": 15,
   "id": "b4f08ac8-9f5c-4c40-a529-f12f48ef21d0",
   "metadata": {},
   "outputs": [],
   "source": [
    "num_input = 1\n",
    "num_output = 6\n",
    "#lr = \n",
    "\n",
    "model = MLP(num_input, num_output, rngs=nnx.Rngs(0))\n",
    "#optimizer = nnx.Optimizer(model, optax.lbfgs(lr))\n",
    "y = model(x=jnp.ones((5, 1)))"
   ]
  },
  {
   "cell_type": "code",
   "execution_count": 16,
   "id": "1b395bc8-0986-4b16-a5c8-39950b92e6d6",
   "metadata": {},
   "outputs": [
    {
     "data": {
      "text/plain": [
       "Array([[15.629814, 15.024139, 16.238647, 16.590088, 15.046219, 14.143402],\n",
       "       [15.629814, 15.024139, 16.238647, 16.590088, 15.046219, 14.143402],\n",
       "       [15.629814, 15.024139, 16.238647, 16.590088, 15.046219, 14.143402],\n",
       "       [15.629814, 15.024139, 16.238647, 16.590088, 15.046219, 14.143402],\n",
       "       [15.629814, 15.024139, 16.238647, 16.590088, 15.046219, 14.143402]],      dtype=float32)"
      ]
     },
     "execution_count": 16,
     "metadata": {},
     "output_type": "execute_result"
    }
   ],
   "source": [
    "y"
   ]
  },
  {
   "cell_type": "code",
   "execution_count": 12,
   "id": "3aa4ad0e-f99f-4443-8cab-cc4798cfd464",
   "metadata": {},
   "outputs": [
    {
     "name": "stdout",
     "output_type": "stream",
     "text": [
      "MLP(\n",
      "  input_layer=Linear(\n",
      "    w=Param(\n",
      "      value=Array(shape=(1, 32), dtype=float32)\n",
      "    ),\n",
      "    b=Param(\n",
      "      value=Array(shape=(32,), dtype=float32)\n",
      "    ),\n",
      "    num_input=1,\n",
      "    num_output=32\n",
      "  ),\n",
      "  hidden_layers1=Linear(\n",
      "    w=Param(\n",
      "      value=Array(shape=(32, 32), dtype=float32)\n",
      "    ),\n",
      "    b=Param(\n",
      "      value=Array(shape=(32,), dtype=float32)\n",
      "    ),\n",
      "    num_input=32,\n",
      "    num_output=32\n",
      "  ),\n",
      "  hidden_layers2=Linear(\n",
      "    w=Param(\n",
      "      value=Array(shape=(32, 32), dtype=float32)\n",
      "    ),\n",
      "    b=Param(\n",
      "      value=Array(shape=(32,), dtype=float32)\n",
      "    ),\n",
      "    num_input=32,\n",
      "    num_output=32\n",
      "  ),\n",
      "  output_layer=Linear(\n",
      "    w=Param(\n",
      "      value=Array(shape=(32, 6), dtype=float32)\n",
      "    ),\n",
      "    b=Param(\n",
      "      value=Array(shape=(6,), dtype=float32)\n",
      "    ),\n",
      "    num_input=32,\n",
      "    num_output=6\n",
      "  )\n",
      ")\n"
     ]
    }
   ],
   "source": [
    "nnx.display(model)"
   ]
  },
  {
   "cell_type": "code",
   "execution_count": null,
   "id": "9cdeba49-6016-4a7f-ae6d-1bb734abc9e3",
   "metadata": {},
   "outputs": [],
   "source": []
  }
 ],
 "metadata": {
  "kernelspec": {
   "display_name": "Python 3 (ipykernel)",
   "language": "python",
   "name": "python3"
  },
  "language_info": {
   "codemirror_mode": {
    "name": "ipython",
    "version": 3
   },
   "file_extension": ".py",
   "mimetype": "text/x-python",
   "name": "python",
   "nbconvert_exporter": "python",
   "pygments_lexer": "ipython3",
   "version": "3.11.9"
  }
 },
 "nbformat": 4,
 "nbformat_minor": 5
}
